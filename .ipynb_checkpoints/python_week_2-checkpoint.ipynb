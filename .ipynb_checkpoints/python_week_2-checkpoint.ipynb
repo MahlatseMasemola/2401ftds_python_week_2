{
 "cells": [
  {
   "cell_type": "markdown",
   "metadata": {},
   "source": [
    "# Python Week 2 Pod Session\n",
    "\n",
    "Lets work with git and github :) \n",
    "\n",
    "As well as some understanding of loops and conditionals. \n",
    "\n",
    "Please ensure you have retrieved this notebook by forking the following repository: https://github.com/marcmarais/2401ftds_python_week_2.git"
   ]
  },
  {
   "cell_type": "markdown",
   "metadata": {},
   "source": [
    "## Fizz, Buzz and FizzBuzz\n",
    "\n",
    "Write a Python program that iterates the integers from 1 to 50. For multiples of three print \"Fizz\" instead of the number and for multiples of five print \"Buzz\". For numbers that are multiples of three and five, print \"FizzBuzz\"."
   ]
  },
  {
   "cell_type": "code",
   "execution_count": 8,
   "metadata": {},
   "outputs": [
    {
     "name": "stdout",
     "output_type": "stream",
     "text": [
      "3: Fizz\n",
      "5: Buzz\n",
      "6: Fizz\n",
      "9: Fizz\n",
      "10: Buzz\n",
      "12: Fizz\n",
      "15: FizzBuzz\n",
      "18: Fizz\n",
      "20: Buzz\n",
      "21: Fizz\n",
      "24: Fizz\n",
      "25: Buzz\n",
      "27: Fizz\n",
      "30: FizzBuzz\n",
      "33: Fizz\n",
      "35: Buzz\n",
      "36: Fizz\n",
      "39: Fizz\n",
      "40: Buzz\n",
      "42: Fizz\n",
      "45: FizzBuzz\n",
      "48: Fizz\n",
      "50: Buzz\n"
     ]
    }
   ],
   "source": [
    "num = 1\n",
    "while num <= 50:\n",
    "   if num % 3 == 0 and num % 5 == 0:\n",
    "      print(str(num) + \": FizzBuzz\")\n",
    "   elif num % 3 == 0:\n",
    "      print(str(num) + \": Fizz\")\n",
    "   elif num % 5 == 0:\n",
    "      print(str(num) + \": Buzz\")\n",
    "    \n",
    "   num += 1"
   ]
  },
  {
   "cell_type": "code",
   "execution_count": null,
   "metadata": {},
   "outputs": [],
   "source": []
  }
 ],
 "metadata": {
  "kernelspec": {
   "display_name": "Python 3 (ipykernel)",
   "language": "python",
   "name": "python3"
  },
  "language_info": {
   "codemirror_mode": {
    "name": "ipython",
    "version": 3
   },
   "file_extension": ".py",
   "mimetype": "text/x-python",
   "name": "python",
   "nbconvert_exporter": "python",
   "pygments_lexer": "ipython3",
   "version": "3.11.5"
  }
 },
 "nbformat": 4,
 "nbformat_minor": 2
}
